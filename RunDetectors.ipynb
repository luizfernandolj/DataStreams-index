{
 "cells": [
  {
   "cell_type": "code",
   "execution_count": 1,
   "metadata": {},
   "outputs": [
    {
     "name": "stderr",
     "output_type": "stream",
     "text": [
      "D:\\Anaconda\\lib\\site-packages\\scipy\\__init__.py:155: UserWarning: A NumPy version >=1.18.5 and <1.25.0 is required for this version of SciPy (detected version 1.25.2\n",
      "  warnings.warn(f\"A NumPy version >={np_minversion} and <{np_maxversion}\"\n"
     ]
    }
   ],
   "source": [
    "import os\n",
    "from drift_detectors import *\n",
    "import warnings\n",
    "warnings.filterwarnings('ignore')"
   ]
  },
  {
   "cell_type": "code",
   "execution_count": 2,
   "metadata": {
    "scrolled": true
   },
   "outputs": [],
   "source": [
    "path = \"C:/Users/luiz_/Projects/DataStreams/Test/DataStreams-index/benchmark_real\"\n",
    "files = os.listdir(path)\n",
    "datasets = [x[:-4] for x in files]"
   ]
  },
  {
   "cell_type": "code",
   "execution_count": 3,
   "metadata": {},
   "outputs": [
    {
     "data": {
      "text/html": [
       "<div>\n",
       "<style scoped>\n",
       "    .dataframe tbody tr th:only-of-type {\n",
       "        vertical-align: middle;\n",
       "    }\n",
       "\n",
       "    .dataframe tbody tr th {\n",
       "        vertical-align: top;\n",
       "    }\n",
       "\n",
       "    .dataframe thead th {\n",
       "        text-align: right;\n",
       "    }\n",
       "</style>\n",
       "<table border=\"1\" class=\"dataframe\">\n",
       "  <thead>\n",
       "    <tr style=\"text-align: right;\">\n",
       "      <th></th>\n",
       "      <th>IBDD</th>\n",
       "      <th>IKS</th>\n",
       "      <th>WRS</th>\n",
       "      <th>ADWIN</th>\n",
       "      <th>TOPLINE</th>\n",
       "      <th>BASELINE</th>\n",
       "    </tr>\n",
       "  </thead>\n",
       "  <tbody>\n",
       "    <tr>\n",
       "      <th>1CDT</th>\n",
       "      <td>NaN</td>\n",
       "      <td>NaN</td>\n",
       "      <td>NaN</td>\n",
       "      <td>NaN</td>\n",
       "      <td>NaN</td>\n",
       "      <td>NaN</td>\n",
       "    </tr>\n",
       "  </tbody>\n",
       "</table>\n",
       "</div>"
      ],
      "text/plain": [
       "     IBDD  IKS  WRS ADWIN TOPLINE BASELINE\n",
       "1CDT  NaN  NaN  NaN   NaN     NaN      NaN"
      ]
     },
     "execution_count": 3,
     "metadata": {},
     "output_type": "execute_result"
    }
   ],
   "source": [
    "table = pd.DataFrame(columns=[\"IBDD\", \"IKS\", \"WRS\", \"ADWIN\", \"TOPLINE\", \"BASELINE\"], index=[datasets])\n",
    "window_size = 300 #window parameter to build the images for comparison\n",
    "train_size = 500\n",
    "table"
   ]
  },
  {
   "cell_type": "code",
   "execution_count": 4,
   "metadata": {},
   "outputs": [
    {
     "name": "stdout",
     "output_type": "stream",
     "text": [
      "Dataset: 1CDT\n",
      "IKS Running...\n",
      "Example 15500/15500 - drifts: [349, 753, 1143, 1640, 2120, 2650, 3182, 3612, 4081, 4465, 4927, 5299, 5771, 6300, 6656, 7166, 7691, 8494, 8899, 9379, 9930, 10410, 10797, 11226, 11616, 12072, 12566, 12883, 13394, 13848, 14436, 14833, 15241]\n",
      "Finished!\n",
      "33 drifts detected at [349, 753, 1143, 1640, 2120, 2650, 3182, 3612, 4081, 4465, 4927, 5299, 5771, 6300, 6656, 7166, 7691, 8494, 8899, 9379, 9930, 10410, 10797, 11226, 11616, 12072, 12566, 12883, 13394, 13848, 14436, 14833, 15241]\n",
      "Average classification accuracy: 99.87%\n",
      "Time per example: 0.02 sec\n",
      "Total time: 304.33 sec\n",
      "=======================\n"
     ]
    },
    {
     "data": {
      "text/html": [
       "<div>\n",
       "<style scoped>\n",
       "    .dataframe tbody tr th:only-of-type {\n",
       "        vertical-align: middle;\n",
       "    }\n",
       "\n",
       "    .dataframe tbody tr th {\n",
       "        vertical-align: top;\n",
       "    }\n",
       "\n",
       "    .dataframe thead th {\n",
       "        text-align: right;\n",
       "    }\n",
       "</style>\n",
       "<table border=\"1\" class=\"dataframe\">\n",
       "  <thead>\n",
       "    <tr style=\"text-align: right;\">\n",
       "      <th></th>\n",
       "      <th>IBDD</th>\n",
       "      <th>IKS</th>\n",
       "      <th>WRS</th>\n",
       "      <th>ADWIN</th>\n",
       "      <th>TOPLINE</th>\n",
       "      <th>BASELINE</th>\n",
       "    </tr>\n",
       "  </thead>\n",
       "  <tbody>\n",
       "    <tr>\n",
       "      <th>1CDT</th>\n",
       "      <td>NaN</td>\n",
       "      <td>99.870968</td>\n",
       "      <td>NaN</td>\n",
       "      <td>NaN</td>\n",
       "      <td>NaN</td>\n",
       "      <td>NaN</td>\n",
       "    </tr>\n",
       "  </tbody>\n",
       "</table>\n",
       "</div>"
      ],
      "text/plain": [
       "     IBDD        IKS  WRS ADWIN TOPLINE BASELINE\n",
       "1CDT  NaN  99.870968  NaN   NaN     NaN      NaN"
      ]
     },
     "execution_count": 4,
     "metadata": {},
     "output_type": "execute_result"
    },
    {
     "data": {
      "image/png": "[encoded data removed]",
      "text/plain": [
       "<Figure size 400x200 with 1 Axes>"
      ]
     },
     "metadata": {},
     "output_type": "display_data"
    }
   ],
   "source": [
    "for file in files:\n",
    "    stream = pd.read_csv(path + \"/\" + file, header=None, index_col=False,sep=',')\n",
    "    stream.iloc[:, -1].replace(1, int(0), inplace=True)\n",
    "    stream.iloc[:, -1].replace(2, int(1), inplace=True)\n",
    "    train = stream.iloc[:train_size].reset_index(drop=True)\n",
    "    test = stream.iloc[train_size:].reset_index(drop=True)\n",
    "\n",
    "    print(f\"Dataset: {file[:-4]}\")\n",
    "    for detector in [\"IKS\", \"IBDD\", \"WRS\", \"ADWIN\", \"BASELINE\",\"TOPLINE\"]:\n",
    "        if detector == \"IKS\":\n",
    "            threshold = 1.95\n",
    "            [drifts, acc_vector, mean_acc, time] = IKS(train, test, window_size, threshold)\n",
    "        elif detector == \"IBDD\":\n",
    "            epsilon = 3\n",
    "            [drifts, acc_vector, mean_acc, time] = IBDD(train, test, window_size, epsilon)\n",
    "        elif detector == \"WRS\":\n",
    "            threshold = 0.001\n",
    "            [drifts, acc_vector, mean_acc, time] = WRS(train, test, window_size, threshold)\n",
    "        elif detector == \"ADWIN\":\n",
    "            [drifts, acc_vector, mean_acc, time] = Adwin(train, test, window_size)\n",
    "        elif detector == \"TOPLINE\":\n",
    "            [mean_acc, acc_vector, time] = topline_classifier(train, test, window_size)\n",
    "        elif detector == \"BASELINE\":\n",
    "            [mean_acc, acc_vector, time] = baseline_classifier(train, test)\n",
    "        print(\"=======================\")\n",
    "            \n",
    "        table.loc[[file[:-4]], [detector]] = round(mean_acc)\n",
    "table\n",
    "\n",
    "    "
   ]
  },
  {
   "cell_type": "markdown",
   "metadata": {},
   "source": [
    "# INCREMENTAL KOLMOGOROV-SMIRNOV (IKS):"
   ]
  },
  {
   "cell_type": "code",
   "execution_count": 5,
   "metadata": {},
   "outputs": [
    {
     "ename": "AttributeError",
     "evalue": "'str' object has no attribute 'iloc'",
     "output_type": "error",
     "traceback": [
      "\u001b[1;31m---------------------------------------------------------------------------\u001b[0m",
      "\u001b[1;31mAttributeError\u001b[0m                            Traceback (most recent call last)",
      "Cell \u001b[1;32mIn[5], line 4\u001b[0m\n\u001b[0;32m      2\u001b[0m FILENAME_TEST \u001b[38;5;241m=\u001b[39m \u001b[38;5;124m'\u001b[39m\u001b[38;5;124mbenchmark_real/Yoga_TEST.data\u001b[39m\u001b[38;5;124m'\u001b[39m\n\u001b[0;32m      3\u001b[0m threshold \u001b[38;5;241m=\u001b[39m \u001b[38;5;241m1.12\u001b[39m\n\u001b[1;32m----> 4\u001b[0m [drifts, acc_vector, mean_acc, time] \u001b[38;5;241m=\u001b[39m \u001b[43mIKS\u001b[49m\u001b[43m(\u001b[49m\u001b[43mFILENAME_TRAIN\u001b[49m\u001b[43m,\u001b[49m\u001b[43m \u001b[49m\u001b[43mFILENAME_TEST\u001b[49m\u001b[43m,\u001b[49m\u001b[43m \u001b[49m\u001b[43mwindow_size\u001b[49m\u001b[43m,\u001b[49m\u001b[43m \u001b[49m\u001b[43mthreshold\u001b[49m\u001b[43m)\u001b[49m\n",
      "File \u001b[1;32m~\\Projects\\DataStreams\\Test\\DataStreams-index\\drift_detectors.py:101\u001b[0m, in \u001b[0;36mIKS\u001b[1;34m(train_data, test_data, window_length, ca)\u001b[0m\n\u001b[0;32m     99\u001b[0m \u001b[38;5;28;01mdef\u001b[39;00m \u001b[38;5;21mIKS\u001b[39m(train_data, test_data, window_length, ca):\n\u001b[1;32m--> 101\u001b[0m     train_X \u001b[38;5;241m=\u001b[39m \u001b[43mtrain_data\u001b[49m\u001b[38;5;241;43m.\u001b[39;49m\u001b[43miloc\u001b[49m[:, :\u001b[38;5;241m-\u001b[39m\u001b[38;5;241m1\u001b[39m]\n\u001b[0;32m    102\u001b[0m     test_X \u001b[38;5;241m=\u001b[39m test_data\u001b[38;5;241m.\u001b[39miloc[:, :\u001b[38;5;241m-\u001b[39m\u001b[38;5;241m1\u001b[39m]\n\u001b[0;32m    103\u001b[0m     train_y \u001b[38;5;241m=\u001b[39m train_data\u001b[38;5;241m.\u001b[39miloc[:, \u001b[38;5;241m-\u001b[39m\u001b[38;5;241m1\u001b[39m]\n",
      "\u001b[1;31mAttributeError\u001b[0m: 'str' object has no attribute 'iloc'"
     ]
    }
   ],
   "source": [
    "FILENAME_TRAIN = 'benchmark_real/Yoga_TRAIN.data'\n",
    "FILENAME_TEST = 'benchmark_real/Yoga_TEST.data'\n",
    "threshold = 1.12\n",
    "[drifts, acc_vector, mean_acc, time] = IKS(FILENAME_TRAIN, FILENAME_TEST, window_size, threshold)"
   ]
  },
  {
   "cell_type": "markdown",
   "metadata": {},
   "source": [
    "# IMAGE-BASED DRIFT DETECTION (IBDD):"
   ]
  },
  {
   "cell_type": "code",
   "execution_count": null,
   "metadata": {
    "scrolled": true
   },
   "outputs": [],
   "source": [
    "epsilon = 3 #number of MSD values above/below threshold\n",
    "[drifts, acc_vector, mean_acc, time] = IBDD(FILENAME_TRAIN, FILENAME_TEST, window_size, epsilon)"
   ]
  },
  {
   "cell_type": "markdown",
   "metadata": {},
   "source": [
    "# BASELINE:"
   ]
  },
  {
   "cell_type": "code",
   "execution_count": null,
   "metadata": {
    "scrolled": true
   },
   "outputs": [],
   "source": [
    "[mean_acc, acc_vector, time] = baseline_classifier(FILENAME_TRAIN, FILENAME_TEST)"
   ]
  },
  {
   "cell_type": "markdown",
   "metadata": {},
   "source": [
    "# TOPLINE:"
   ]
  },
  {
   "cell_type": "code",
   "execution_count": null,
   "metadata": {},
   "outputs": [],
   "source": [
    "[mean_acc, acc_vector, time] = topline_classifier(FILENAME_TRAIN, FILENAME_TEST, window_size)"
   ]
  },
  {
   "cell_type": "markdown",
   "metadata": {},
   "source": [
    "# WILCOXON-RANK SUM (WRS):"
   ]
  },
  {
   "cell_type": "code",
   "execution_count": null,
   "metadata": {},
   "outputs": [],
   "source": [
    "threshold = 0.001\n",
    "[drifts, acc_vector, mean_acc, time] = wrs_test(FILENAME_TRAIN, FILENAME_TEST, window_size, threshold)"
   ]
  },
  {
   "cell_type": "code",
   "execution_count": null,
   "metadata": {},
   "outputs": [],
   "source": []
  }
 ],
 "metadata": {
  "kernelspec": {
   "display_name": "Python 3 (ipykernel)",
   "language": "python",
   "name": "python3"
  },
  "language_info": {
   "codemirror_mode": {
    "name": "ipython",
    "version": 3
   },
   "file_extension": ".py",
   "mimetype": "text/x-python",
   "name": "python",
   "nbconvert_exporter": "python",
   "pygments_lexer": "ipython3",
   "version": "3.9.18"
  }
 },
 "nbformat": 4,
 "nbformat_minor": 4
}
