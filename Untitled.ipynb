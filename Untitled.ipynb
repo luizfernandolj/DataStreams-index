{
 "cells": [
  {
   "cell_type": "code",
   "execution_count": 4,
   "id": "987e860d",
   "metadata": {
    "scrolled": true
   },
   "outputs": [
    {
     "name": "stdout",
     "output_type": "stream",
     "text": [
      "IKS Running...\n",
      "Example 2999/2999 drifts: [956, 1200, 1509, 1655, 1955, 2133]\n",
      "Finished!\n",
      "6 drifts detected at [956, 1200, 1509, 1655, 1955, 2133]\n",
      "Average classification accuracy: 80.83%\n",
      "Time per example: 0.02 sec\n",
      "Total time: 67.63 sec\n"
     ]
    },
    {
     "ename": "NameError",
     "evalue": "name 'plot_acc' is not defined",
     "output_type": "error",
     "traceback": [
      "\u001b[1;31m---------------------------------------------------------------------------\u001b[0m",
      "\u001b[1;31mNameError\u001b[0m                                 Traceback (most recent call last)",
      "Cell \u001b[1;32mIn[4], line 79\u001b[0m\n\u001b[0;32m     76\u001b[0m window_size \u001b[38;5;241m=\u001b[39m \u001b[38;5;241m300\u001b[39m\n\u001b[0;32m     77\u001b[0m clf \u001b[38;5;241m=\u001b[39m RandomForestClassifier(n_estimators\u001b[38;5;241m=\u001b[39m\u001b[38;5;241m200\u001b[39m)\n\u001b[1;32m---> 79\u001b[0m drift_points, average_accuracy \u001b[38;5;241m=\u001b[39m \u001b[43msimulate_data_stream\u001b[49m\u001b[43m(\u001b[49m\u001b[43mtrain_file\u001b[49m\u001b[43m,\u001b[49m\u001b[43m \u001b[49m\u001b[43mtest_file\u001b[49m\u001b[43m,\u001b[49m\u001b[43m \u001b[49m\u001b[43mwindow_size\u001b[49m\u001b[43m,\u001b[49m\u001b[43m \u001b[49m\u001b[43mclf\u001b[49m\u001b[43m)\u001b[49m\n\u001b[0;32m     81\u001b[0m \u001b[38;5;66;03m# Imprima os pontos de deriva detectados e a acurácia média\u001b[39;00m\n\u001b[0;32m     82\u001b[0m \u001b[38;5;28mprint\u001b[39m(\u001b[38;5;124m'\u001b[39m\u001b[38;5;124mDrift Points:\u001b[39m\u001b[38;5;124m'\u001b[39m, drift_points)\n",
      "Cell \u001b[1;32mIn[4], line 69\u001b[0m, in \u001b[0;36msimulate_data_stream\u001b[1;34m(train_data, test_data, window_size, clf)\u001b[0m\n\u001b[0;32m     66\u001b[0m \u001b[38;5;28mprint\u001b[39m(\u001b[38;5;124mf\u001b[39m\u001b[38;5;124m\"\u001b[39m\u001b[38;5;124mTime per example: \u001b[39m\u001b[38;5;132;01m{\u001b[39;00mnp\u001b[38;5;241m.\u001b[39mround(execution_time\u001b[38;5;250m \u001b[39m\u001b[38;5;241m/\u001b[39m\u001b[38;5;250m \u001b[39m\u001b[38;5;28mlen\u001b[39m(test_df),\u001b[38;5;250m \u001b[39m\u001b[38;5;241m2\u001b[39m)\u001b[38;5;132;01m}\u001b[39;00m\u001b[38;5;124m sec\u001b[39m\u001b[38;5;124m\"\u001b[39m)\n\u001b[0;32m     67\u001b[0m \u001b[38;5;28mprint\u001b[39m(\u001b[38;5;124mf\u001b[39m\u001b[38;5;124m\"\u001b[39m\u001b[38;5;124mTotal time: \u001b[39m\u001b[38;5;132;01m{\u001b[39;00mnp\u001b[38;5;241m.\u001b[39mround(execution_time,\u001b[38;5;250m \u001b[39m\u001b[38;5;241m2\u001b[39m)\u001b[38;5;132;01m}\u001b[39;00m\u001b[38;5;124m sec\u001b[39m\u001b[38;5;124m\"\u001b[39m)\n\u001b[1;32m---> 69\u001b[0m \u001b[43mplot_acc\u001b[49m(vet_acc, \u001b[38;5;241m500\u001b[39m, \u001b[38;5;28;01mNone\u001b[39;00m, \u001b[38;5;124m'\u001b[39m\u001b[38;5;124m-\u001b[39m\u001b[38;5;124m'\u001b[39m, \u001b[38;5;124m'\u001b[39m\u001b[38;5;124mIKS\u001b[39m\u001b[38;5;124m'\u001b[39m)\n\u001b[0;32m     71\u001b[0m \u001b[38;5;28;01mreturn\u001b[39;00m drift_points, mean_acc\n",
      "\u001b[1;31mNameError\u001b[0m: name 'plot_acc' is not defined"
     ]
    }
   ],
   "source": [
    "# Importe as bibliotecas necessárias\n",
    "from timeit import default_timer as timer\n",
    "import pandas as pd\n",
    "import numpy as np\n",
    "from IKSSW import IKSSW\n",
    "from sklearn.ensemble import RandomForestClassifier\n",
    "from sklearn.metrics import accuracy_score\n",
    "\n",
    "import * from detectors\n",
    "import warnings\n",
    "warnings.filterwarnings('ignore')\n",
    "\n",
    "# Exemplo de uso\n",
    "train_file = 'benchmark_real/Yoga_TRAIN.data'\n",
    "test_file = 'benchmark_real/Yoga_TEST.data'\n",
    "window_size = 300\n",
    "clf = RandomForestClassifier(n_estimators=200)\n",
    "\n",
    "drift_points, average_accuracy = simulate_data_stream(train_file, test_file, window_size, clf)\n",
    "\n",
    "# Imprima os pontos de deriva detectados e a acurácia média\n",
    "print('Drift Points:', drift_points)\n",
    "print('Average Accuracy:', average_accuracy)\n"
   ]
  }
 ],
 "metadata": {
  "kernelspec": {
   "display_name": "Python 3 (ipykernel)",
   "language": "python",
   "name": "python3"
  },
  "language_info": {
   "codemirror_mode": {
    "name": "ipython",
    "version": 3
   },
   "file_extension": ".py",
   "mimetype": "text/x-python",
   "name": "python",
   "nbconvert_exporter": "python",
   "pygments_lexer": "ipython3",
   "version": "3.9.18"
  }
 },
 "nbformat": 4,
 "nbformat_minor": 5
}
